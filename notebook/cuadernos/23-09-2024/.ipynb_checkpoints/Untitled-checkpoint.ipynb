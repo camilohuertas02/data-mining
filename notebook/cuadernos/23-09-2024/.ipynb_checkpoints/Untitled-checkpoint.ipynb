{
 "cells": [
  {
   "cell_type": "markdown",
   "id": "4de978ca-d446-4aee-ad31-960f1f3b9a69",
   "metadata": {},
   "source": [
    "Regresion linea unidimensional"
   ]
  },
  {
   "cell_type": "code",
   "execution_count": 2,
   "id": "966709a7-a521-412c-8eca-1e068758ad34",
   "metadata": {},
   "outputs": [],
   "source": [
    "import pandas as pd\n",
    "import numpy as np\n",
    "import matplotlib.pyplot as plt"
   ]
  },
  {
   "cell_type": "markdown",
   "id": "dfbc0666-4d2c-4520-ac24-6c5096d921d9",
   "metadata": {},
   "source": [
    "Definicion de funciones"
   ]
  },
  {
   "cell_type": "code",
   "execution_count": 6,
   "id": "8eea98c5-dd64-4869-b692-104c34329e42",
   "metadata": {},
   "outputs": [],
   "source": [
    "def cargardatos():\n",
    "    df = pdf.read_excel('../../ejercicio6septiembre/Datos.xlsx')\n",
    "    x = df['ingresos']\n",
    "    y = df['consumos']"
   ]
  },
  {
   "cell_type": "code",
   "execution_count": 10,
   "id": "b9569ac7-78de-4103-af96-df6bcb7eb45f",
   "metadata": {},
   "outputs": [],
   "source": [
    "def DibujaDatos(x,y,n):\n",
    "    plt.figure()\n",
    "    plt.plot(x,y)\n",
    "    plt.show()"
   ]
  },
  {
   "cell_type": "code",
   "execution_count": null,
   "id": "03112700-d59e-4a06-9b66-7c157626df62",
   "metadata": {},
   "outputs": [],
   "source": []
  }
 ],
 "metadata": {
  "kernelspec": {
   "display_name": "Python 3 (ipykernel)",
   "language": "python",
   "name": "python3"
  },
  "language_info": {
   "codemirror_mode": {
    "name": "ipython",
    "version": 3
   },
   "file_extension": ".py",
   "mimetype": "text/x-python",
   "name": "python",
   "nbconvert_exporter": "python",
   "pygments_lexer": "ipython3",
   "version": "3.12.6"
  }
 },
 "nbformat": 4,
 "nbformat_minor": 5
}
