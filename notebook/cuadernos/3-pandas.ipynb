{
 "cells": [
  {
   "cell_type": "markdown",
   "id": "350e9745-ac27-4198-bb99-cf72e917103f",
   "metadata": {},
   "source": [
    "### pandas"
   ]
  },
  {
   "cell_type": "code",
   "execution_count": 1,
   "id": "b77df4ff-8d54-4a5c-b986-ad3c2664821d",
   "metadata": {},
   "outputs": [
    {
     "data": {
      "text/html": [
       "<div>\n",
       "<style scoped>\n",
       "    .dataframe tbody tr th:only-of-type {\n",
       "        vertical-align: middle;\n",
       "    }\n",
       "\n",
       "    .dataframe tbody tr th {\n",
       "        vertical-align: top;\n",
       "    }\n",
       "\n",
       "    .dataframe thead th {\n",
       "        text-align: right;\n",
       "    }\n",
       "</style>\n",
       "<table border=\"1\" class=\"dataframe\">\n",
       "  <thead>\n",
       "    <tr style=\"text-align: right;\">\n",
       "      <th></th>\n",
       "      <th>1</th>\n",
       "      <th>2</th>\n",
       "      <th>3</th>\n",
       "      <th>4</th>\n",
       "      <th>5</th>\n",
       "    </tr>\n",
       "  </thead>\n",
       "  <tbody>\n",
       "    <tr>\n",
       "      <th>Nombre</th>\n",
       "      <td>pepito</td>\n",
       "      <td>pancho</td>\n",
       "      <td>felipe</td>\n",
       "      <td>ignacio</td>\n",
       "      <td>tolomeo</td>\n",
       "    </tr>\n",
       "    <tr>\n",
       "      <th>Sexo</th>\n",
       "      <td>M</td>\n",
       "      <td>M</td>\n",
       "      <td>M</td>\n",
       "      <td>M</td>\n",
       "      <td>M</td>\n",
       "    </tr>\n",
       "    <tr>\n",
       "      <th>numero</th>\n",
       "      <td>132</td>\n",
       "      <td>564</td>\n",
       "      <td>84</td>\n",
       "      <td>864</td>\n",
       "      <td>684</td>\n",
       "    </tr>\n",
       "  </tbody>\n",
       "</table>\n",
       "</div>"
      ],
      "text/plain": [
       "             1       2       3        4        5\n",
       "Nombre  pepito  pancho  felipe  ignacio  tolomeo\n",
       "Sexo         M       M       M        M        M\n",
       "numero     132     564      84      864      684"
      ]
     },
     "execution_count": 1,
     "metadata": {},
     "output_type": "execute_result"
    }
   ],
   "source": [
    "import pandas as pd\n",
    "\n",
    "database = [['pepito','pancho','felipe','ignacio','tolomeo'],['M','M','M','M','M'],[132,564,84,864,684]]\n",
    "database\n",
    "\n",
    "df = pd.DataFrame(database, columns=['1', '2', '3', '4', '5'], index=['Nombre','Sexo','numero'])\n",
    "\n",
    "df.style.set_properties(**{'text-align': 'center'})\n",
    "\n",
    "df"
   ]
  },
  {
   "cell_type": "markdown",
   "id": "6c59a4ab-b606-4c49-984c-1584b10b4722",
   "metadata": {},
   "source": [
    "## Importar un dataset IRIS\n",
    "## Leemos el .csv con pd.read_csv(\"dirección_del_archivo\") y lo guardamos en df_iris"
   ]
  },
  {
   "cell_type": "code",
   "execution_count": 3,
   "id": "f58bea5d-d01d-4d8d-b3fc-d45720243e00",
   "metadata": {},
   "outputs": [
    {
     "data": {
      "text/html": [
       "<div>\n",
       "<style scoped>\n",
       "    .dataframe tbody tr th:only-of-type {\n",
       "        vertical-align: middle;\n",
       "    }\n",
       "\n",
       "    .dataframe tbody tr th {\n",
       "        vertical-align: top;\n",
       "    }\n",
       "\n",
       "    .dataframe thead th {\n",
       "        text-align: right;\n",
       "    }\n",
       "</style>\n",
       "<table border=\"1\" class=\"dataframe\">\n",
       "  <thead>\n",
       "    <tr style=\"text-align: right;\">\n",
       "      <th></th>\n",
       "      <th>sepal.length</th>\n",
       "      <th>sepal.width</th>\n",
       "      <th>petal.length</th>\n",
       "      <th>petal.width</th>\n",
       "      <th>variety</th>\n",
       "    </tr>\n",
       "  </thead>\n",
       "  <tbody>\n",
       "    <tr>\n",
       "      <th>0</th>\n",
       "      <td>5.1</td>\n",
       "      <td>3.5</td>\n",
       "      <td>1.4</td>\n",
       "      <td>0.2</td>\n",
       "      <td>Setosa</td>\n",
       "    </tr>\n",
       "    <tr>\n",
       "      <th>1</th>\n",
       "      <td>4.9</td>\n",
       "      <td>3.0</td>\n",
       "      <td>1.4</td>\n",
       "      <td>0.2</td>\n",
       "      <td>Setosa</td>\n",
       "    </tr>\n",
       "    <tr>\n",
       "      <th>2</th>\n",
       "      <td>4.7</td>\n",
       "      <td>3.2</td>\n",
       "      <td>1.3</td>\n",
       "      <td>0.2</td>\n",
       "      <td>Setosa</td>\n",
       "    </tr>\n",
       "    <tr>\n",
       "      <th>3</th>\n",
       "      <td>4.6</td>\n",
       "      <td>3.1</td>\n",
       "      <td>1.5</td>\n",
       "      <td>0.2</td>\n",
       "      <td>Setosa</td>\n",
       "    </tr>\n",
       "    <tr>\n",
       "      <th>4</th>\n",
       "      <td>5.0</td>\n",
       "      <td>3.6</td>\n",
       "      <td>1.4</td>\n",
       "      <td>0.2</td>\n",
       "      <td>Setosa</td>\n",
       "    </tr>\n",
       "    <tr>\n",
       "      <th>...</th>\n",
       "      <td>...</td>\n",
       "      <td>...</td>\n",
       "      <td>...</td>\n",
       "      <td>...</td>\n",
       "      <td>...</td>\n",
       "    </tr>\n",
       "    <tr>\n",
       "      <th>145</th>\n",
       "      <td>6.7</td>\n",
       "      <td>3.0</td>\n",
       "      <td>5.2</td>\n",
       "      <td>2.3</td>\n",
       "      <td>Virginica</td>\n",
       "    </tr>\n",
       "    <tr>\n",
       "      <th>146</th>\n",
       "      <td>6.3</td>\n",
       "      <td>2.5</td>\n",
       "      <td>5.0</td>\n",
       "      <td>1.9</td>\n",
       "      <td>Virginica</td>\n",
       "    </tr>\n",
       "    <tr>\n",
       "      <th>147</th>\n",
       "      <td>6.5</td>\n",
       "      <td>3.0</td>\n",
       "      <td>5.2</td>\n",
       "      <td>2.0</td>\n",
       "      <td>Virginica</td>\n",
       "    </tr>\n",
       "    <tr>\n",
       "      <th>148</th>\n",
       "      <td>6.2</td>\n",
       "      <td>3.4</td>\n",
       "      <td>5.4</td>\n",
       "      <td>2.3</td>\n",
       "      <td>Virginica</td>\n",
       "    </tr>\n",
       "    <tr>\n",
       "      <th>149</th>\n",
       "      <td>5.9</td>\n",
       "      <td>3.0</td>\n",
       "      <td>5.1</td>\n",
       "      <td>1.8</td>\n",
       "      <td>Virginica</td>\n",
       "    </tr>\n",
       "  </tbody>\n",
       "</table>\n",
       "<p>150 rows × 5 columns</p>\n",
       "</div>"
      ],
      "text/plain": [
       "     sepal.length  sepal.width  petal.length  petal.width    variety\n",
       "0             5.1          3.5           1.4          0.2     Setosa\n",
       "1             4.9          3.0           1.4          0.2     Setosa\n",
       "2             4.7          3.2           1.3          0.2     Setosa\n",
       "3             4.6          3.1           1.5          0.2     Setosa\n",
       "4             5.0          3.6           1.4          0.2     Setosa\n",
       "..            ...          ...           ...          ...        ...\n",
       "145           6.7          3.0           5.2          2.3  Virginica\n",
       "146           6.3          2.5           5.0          1.9  Virginica\n",
       "147           6.5          3.0           5.2          2.0  Virginica\n",
       "148           6.2          3.4           5.4          2.3  Virginica\n",
       "149           5.9          3.0           5.1          1.8  Virginica\n",
       "\n",
       "[150 rows x 5 columns]"
      ]
     },
     "execution_count": 3,
     "metadata": {},
     "output_type": "execute_result"
    }
   ],
   "source": [
    "# Read the CSV file\n",
    "df_iris = pd.read_csv(\"../databaseiris/iris.csv\")\n",
    "df_iris"
   ]
  },
  {
   "cell_type": "markdown",
   "id": "55601aae-d425-4391-8f05-52bc44acfcc3",
   "metadata": {},
   "source": [
    "## value_counts. "
   ]
  },
  {
   "cell_type": "code",
   "execution_count": 5,
   "id": "fc7a99ee-3917-4c65-889d-cda928a98ca6",
   "metadata": {},
   "outputs": [
    {
     "data": {
      "text/plain": [
       "sepal.length  sepal.width  petal.length  petal.width  variety  \n",
       "5.8           2.7          5.1           1.9          Virginica    2\n",
       "4.4           2.9          1.4           0.2          Setosa       1\n",
       "              3.0          1.3           0.2          Setosa       1\n",
       "              3.2          1.3           0.2          Setosa       1\n",
       "4.3           3.0          1.1           0.1          Setosa       1\n",
       "                                                                  ..\n",
       "7.7           2.6          6.9           2.3          Virginica    1\n",
       "              2.8          6.7           2.0          Virginica    1\n",
       "              3.0          6.1           2.3          Virginica    1\n",
       "              3.8          6.7           2.2          Virginica    1\n",
       "7.9           3.8          6.4           2.0          Virginica    1\n",
       "Name: count, Length: 149, dtype: int64"
      ]
     },
     "execution_count": 5,
     "metadata": {},
     "output_type": "execute_result"
    }
   ],
   "source": [
    "df_iris.value_counts()"
   ]
  },
  {
   "cell_type": "markdown",
   "id": "936c8cac-3c99-490f-a078-2bcf0546fb03",
   "metadata": {},
   "source": [
    "## Podemos usar len(df_iris) para contar el numero de filas en la DataFrame, en este caso 150 filas"
   ]
  },
  {
   "cell_type": "code",
   "execution_count": 6,
   "id": "4267f86f-12cd-42a7-a095-e378ca290494",
   "metadata": {},
   "outputs": [
    {
     "data": {
      "text/plain": [
       "150"
      ]
     },
     "execution_count": 6,
     "metadata": {},
     "output_type": "execute_result"
    }
   ],
   "source": [
    "len(df_iris)"
   ]
  },
  {
   "cell_type": "markdown",
   "id": "0cf3e820-0edc-4743-afde-99c5309abd44",
   "metadata": {},
   "source": [
    "## df_iris.shape nos indica el un par ordenado donde el primer valor indica el numero de filas y 5 el numero de columnas."
   ]
  },
  {
   "cell_type": "code",
   "execution_count": 7,
   "id": "729daeff-366a-4969-94a5-90760cc9b618",
   "metadata": {},
   "outputs": [
    {
     "data": {
      "text/plain": [
       "(150, 5)"
      ]
     },
     "execution_count": 7,
     "metadata": {},
     "output_type": "execute_result"
    }
   ],
   "source": [
    "df_iris.shape"
   ]
  },
  {
   "cell_type": "markdown",
   "id": "c595d220-c414-4894-97bc-e82928a76ded",
   "metadata": {},
   "source": [
    "## df_iris.nunique() nos indica el numero de valores unicos de cada columna"
   ]
  },
  {
   "cell_type": "code",
   "execution_count": 8,
   "id": "0e853bd0-07ae-4ca6-b2a6-2e5e5ecc2e6b",
   "metadata": {},
   "outputs": [
    {
     "data": {
      "text/plain": [
       "sepal.length    35\n",
       "sepal.width     23\n",
       "petal.length    43\n",
       "petal.width     22\n",
       "variety          3\n",
       "dtype: int64"
      ]
     },
     "execution_count": 8,
     "metadata": {},
     "output_type": "execute_result"
    }
   ],
   "source": [
    "df_iris.nunique()"
   ]
  },
  {
   "cell_type": "markdown",
   "id": "d765010e-7f69-4a1e-9a58-0e73d25dab42",
   "metadata": {},
   "source": [
    "## df_iris.describe() nos muestra por columnas el \"valores\", \"valor medio\", \"std\", \"valor minimo\", \"25%\" ,\"50%\" ,\"75%\" , \"valor maximo\"."
   ]
  },
  {
   "cell_type": "code",
   "execution_count": 16,
   "id": "212f5fd2-ead0-4d0f-988f-bc90c6711add",
   "metadata": {},
   "outputs": [
    {
     "data": {
      "text/html": [
       "<div>\n",
       "<style scoped>\n",
       "    .dataframe tbody tr th:only-of-type {\n",
       "        vertical-align: middle;\n",
       "    }\n",
       "\n",
       "    .dataframe tbody tr th {\n",
       "        vertical-align: top;\n",
       "    }\n",
       "\n",
       "    .dataframe thead th {\n",
       "        text-align: right;\n",
       "    }\n",
       "</style>\n",
       "<table border=\"1\" class=\"dataframe\">\n",
       "  <thead>\n",
       "    <tr style=\"text-align: right;\">\n",
       "      <th></th>\n",
       "      <th>sepal.length</th>\n",
       "      <th>sepal.width</th>\n",
       "      <th>petal.length</th>\n",
       "      <th>petal.width</th>\n",
       "    </tr>\n",
       "  </thead>\n",
       "  <tbody>\n",
       "    <tr>\n",
       "      <th>count</th>\n",
       "      <td>150.000000</td>\n",
       "      <td>150.000000</td>\n",
       "      <td>150.000000</td>\n",
       "      <td>150.000000</td>\n",
       "    </tr>\n",
       "    <tr>\n",
       "      <th>mean</th>\n",
       "      <td>5.843333</td>\n",
       "      <td>3.057333</td>\n",
       "      <td>3.758000</td>\n",
       "      <td>1.199333</td>\n",
       "    </tr>\n",
       "    <tr>\n",
       "      <th>std</th>\n",
       "      <td>0.828066</td>\n",
       "      <td>0.435866</td>\n",
       "      <td>1.765298</td>\n",
       "      <td>0.762238</td>\n",
       "    </tr>\n",
       "    <tr>\n",
       "      <th>min</th>\n",
       "      <td>4.300000</td>\n",
       "      <td>2.000000</td>\n",
       "      <td>1.000000</td>\n",
       "      <td>0.100000</td>\n",
       "    </tr>\n",
       "    <tr>\n",
       "      <th>25%</th>\n",
       "      <td>5.100000</td>\n",
       "      <td>2.800000</td>\n",
       "      <td>1.600000</td>\n",
       "      <td>0.300000</td>\n",
       "    </tr>\n",
       "    <tr>\n",
       "      <th>50%</th>\n",
       "      <td>5.800000</td>\n",
       "      <td>3.000000</td>\n",
       "      <td>4.350000</td>\n",
       "      <td>1.300000</td>\n",
       "    </tr>\n",
       "    <tr>\n",
       "      <th>75%</th>\n",
       "      <td>6.400000</td>\n",
       "      <td>3.300000</td>\n",
       "      <td>5.100000</td>\n",
       "      <td>1.800000</td>\n",
       "    </tr>\n",
       "    <tr>\n",
       "      <th>max</th>\n",
       "      <td>7.900000</td>\n",
       "      <td>4.400000</td>\n",
       "      <td>6.900000</td>\n",
       "      <td>2.500000</td>\n",
       "    </tr>\n",
       "  </tbody>\n",
       "</table>\n",
       "</div>"
      ],
      "text/plain": [
       "       sepal.length  sepal.width  petal.length  petal.width\n",
       "count    150.000000   150.000000    150.000000   150.000000\n",
       "mean       5.843333     3.057333      3.758000     1.199333\n",
       "std        0.828066     0.435866      1.765298     0.762238\n",
       "min        4.300000     2.000000      1.000000     0.100000\n",
       "25%        5.100000     2.800000      1.600000     0.300000\n",
       "50%        5.800000     3.000000      4.350000     1.300000\n",
       "75%        6.400000     3.300000      5.100000     1.800000\n",
       "max        7.900000     4.400000      6.900000     2.500000"
      ]
     },
     "execution_count": 16,
     "metadata": {},
     "output_type": "execute_result"
    }
   ],
   "source": [
    "df_iris.describe()"
   ]
  },
  {
   "cell_type": "markdown",
   "id": "7d3664ea-4e85-4229-924d-45c60e44cd5c",
   "metadata": {},
   "source": [
    "## df_iris.sum() realizar la suma de todos los datos de una variable/columna; es curioso notar que concatena las variables de texto"
   ]
  },
  {
   "cell_type": "code",
   "execution_count": 39,
   "id": "a869c1a1-3d01-45ea-8a08-dda3c61a6b5e",
   "metadata": {},
   "outputs": [
    {
     "data": {
      "text/plain": [
       "sepal.length                                                876.5\n",
       "sepal.width                                                 458.6\n",
       "petal.length                                                563.7\n",
       "petal.width                                                 179.9\n",
       "variety         SetosaSetosaSetosaSetosaSetosaSetosaSetosaSeto...\n",
       "dtype: object"
      ]
     },
     "execution_count": 39,
     "metadata": {},
     "output_type": "execute_result"
    }
   ],
   "source": [
    "df_iris.sum()"
   ]
  },
  {
   "cell_type": "markdown",
   "id": "e0eaf38e-6c38-4843-be30-6cf39ba660a0",
   "metadata": {},
   "source": [
    "## df_iris.count() cuenta los datos de una variable, en este caso todas tienen 150 datos (es decir, filas)"
   ]
  },
  {
   "cell_type": "code",
   "execution_count": 40,
   "id": "e7948a29-4816-45ac-812c-908993a31d98",
   "metadata": {},
   "outputs": [
    {
     "data": {
      "text/plain": [
       "sepal.length    150\n",
       "sepal.width     150\n",
       "petal.length    150\n",
       "petal.width     150\n",
       "variety         150\n",
       "dtype: int64"
      ]
     },
     "execution_count": 40,
     "metadata": {},
     "output_type": "execute_result"
    }
   ],
   "source": [
    "df_iris.count()"
   ]
  },
  {
   "cell_type": "markdown",
   "id": "b3db1d72-2339-434d-9f9f-b7c9ffea5071",
   "metadata": {},
   "source": [
    "## df_iris.median() tiene de salida el valor de medio para cada valor; en este caso fallará por la columna variety con str (texto), por ello se debe indicar las columnas donde se aplicará median()"
   ]
  },
  {
   "cell_type": "code",
   "execution_count": 42,
   "id": "bddcf862-6c50-4733-9bb3-1658ee15dbee",
   "metadata": {},
   "outputs": [
    {
     "data": {
      "text/plain": [
       "sepal.length    5.80\n",
       "sepal.width     3.00\n",
       "petal.length    4.35\n",
       "petal.width     1.30\n",
       "dtype: float64"
      ]
     },
     "execution_count": 42,
     "metadata": {},
     "output_type": "execute_result"
    }
   ],
   "source": [
    "df_iris[['sepal.length','sepal.width','petal.length','petal.width']].median()"
   ]
  },
  {
   "cell_type": "markdown",
   "id": "6f7ec550-8de1-4929-952d-ddce59446258",
   "metadata": {},
   "source": [
    "## df_iris.quantile() tiene de salia los cuantiles de cada objeto"
   ]
  },
  {
   "cell_type": "code",
   "execution_count": 43,
   "id": "f53bb30d-fd53-4dbb-84fa-87a37cf00f09",
   "metadata": {},
   "outputs": [
    {
     "data": {
      "text/html": [
       "<div>\n",
       "<style scoped>\n",
       "    .dataframe tbody tr th:only-of-type {\n",
       "        vertical-align: middle;\n",
       "    }\n",
       "\n",
       "    .dataframe tbody tr th {\n",
       "        vertical-align: top;\n",
       "    }\n",
       "\n",
       "    .dataframe thead th {\n",
       "        text-align: right;\n",
       "    }\n",
       "</style>\n",
       "<table border=\"1\" class=\"dataframe\">\n",
       "  <thead>\n",
       "    <tr style=\"text-align: right;\">\n",
       "      <th></th>\n",
       "      <th>sepal.length</th>\n",
       "      <th>sepal.width</th>\n",
       "      <th>petal.length</th>\n",
       "      <th>petal.width</th>\n",
       "    </tr>\n",
       "  </thead>\n",
       "  <tbody>\n",
       "    <tr>\n",
       "      <th>0.25</th>\n",
       "      <td>5.1</td>\n",
       "      <td>2.8</td>\n",
       "      <td>1.6</td>\n",
       "      <td>0.3</td>\n",
       "    </tr>\n",
       "    <tr>\n",
       "      <th>0.75</th>\n",
       "      <td>6.4</td>\n",
       "      <td>3.3</td>\n",
       "      <td>5.1</td>\n",
       "      <td>1.8</td>\n",
       "    </tr>\n",
       "  </tbody>\n",
       "</table>\n",
       "</div>"
      ],
      "text/plain": [
       "      sepal.length  sepal.width  petal.length  petal.width\n",
       "0.25           5.1          2.8           1.6          0.3\n",
       "0.75           6.4          3.3           5.1          1.8"
      ]
     },
     "execution_count": 43,
     "metadata": {},
     "output_type": "execute_result"
    }
   ],
   "source": [
    "df_iris[['sepal.length','sepal.width','petal.length','petal.width']].quantile([0.25,0.75])"
   ]
  },
  {
   "cell_type": "markdown",
   "id": "f5790c35-0769-4fa9-8f4c-d35a5cc0625f",
   "metadata": {},
   "source": [
    "## df_iris.apply() : comenta la documentación que se aplica una función en cada objeto."
   ]
  },
  {
   "cell_type": "code",
   "execution_count": null,
   "id": "9cc80e98-8600-4a37-8f70-265b5afbf159",
   "metadata": {},
   "outputs": [],
   "source": [
    "df_iris.apply()"
   ]
  },
  {
   "cell_type": "markdown",
   "id": "ce597130-e83d-4411-bc92-bae1605e3ccf",
   "metadata": {},
   "source": [
    "## df_iris.min() da de salida el valor minimo de cada variable"
   ]
  },
  {
   "cell_type": "code",
   "execution_count": 44,
   "id": "bf458807-9ed5-4675-b5bb-35a67b334cb4",
   "metadata": {},
   "outputs": [
    {
     "data": {
      "text/plain": [
       "sepal.length    4.3\n",
       "sepal.width     2.0\n",
       "petal.length    1.0\n",
       "petal.width     0.1\n",
       "dtype: float64"
      ]
     },
     "execution_count": 44,
     "metadata": {},
     "output_type": "execute_result"
    }
   ],
   "source": [
    "df_iris[['sepal.length','sepal.width','petal.length','petal.width']].min()"
   ]
  },
  {
   "cell_type": "markdown",
   "id": "c8291874-7bea-4513-a3d4-479e62846bb5",
   "metadata": {},
   "source": [
    "## df_iris.max() imprime el valor maximo para cada variable"
   ]
  },
  {
   "cell_type": "code",
   "execution_count": 45,
   "id": "e6b75a1a-f7c2-4702-8d58-f7963ca6bb2a",
   "metadata": {},
   "outputs": [
    {
     "data": {
      "text/plain": [
       "sepal.length    7.9\n",
       "sepal.width     4.4\n",
       "petal.length    6.9\n",
       "petal.width     2.5\n",
       "dtype: float64"
      ]
     },
     "execution_count": 45,
     "metadata": {},
     "output_type": "execute_result"
    }
   ],
   "source": [
    "df_iris[['sepal.length','sepal.width','petal.length','petal.width']].max()"
   ]
  },
  {
   "cell_type": "markdown",
   "id": "ab58a336-f6d3-455d-b6db-208645a649b8",
   "metadata": {},
   "source": [
    "## df_iris.mean() da el valor medio de cada variable"
   ]
  },
  {
   "cell_type": "code",
   "execution_count": 47,
   "id": "cc52f41c-edcf-4fd8-a6e1-949d05dbce21",
   "metadata": {},
   "outputs": [
    {
     "data": {
      "text/plain": [
       "sepal.length    5.843333\n",
       "sepal.width     3.057333\n",
       "petal.length    3.758000\n",
       "petal.width     1.199333\n",
       "dtype: float64"
      ]
     },
     "execution_count": 47,
     "metadata": {},
     "output_type": "execute_result"
    }
   ],
   "source": [
    "df_iris[['sepal.length','sepal.width','petal.length','petal.width']].mean()"
   ]
  },
  {
   "cell_type": "markdown",
   "id": "a218b43e-82c8-41b6-86af-4215f9175d6a",
   "metadata": {},
   "source": [
    "## df_iris.var() da la varianza de cada variable"
   ]
  },
  {
   "cell_type": "code",
   "execution_count": 48,
   "id": "28e15c96-a0cc-4ab4-a04e-1c228833f640",
   "metadata": {},
   "outputs": [
    {
     "data": {
      "text/plain": [
       "sepal.length    0.685694\n",
       "sepal.width     0.189979\n",
       "petal.length    3.116278\n",
       "petal.width     0.581006\n",
       "dtype: float64"
      ]
     },
     "execution_count": 48,
     "metadata": {},
     "output_type": "execute_result"
    }
   ],
   "source": [
    "df_iris[['sepal.length','sepal.width','petal.length','petal.width']].var()"
   ]
  },
  {
   "cell_type": "markdown",
   "id": "fe156e4b-1fdd-457f-b3c6-f35234d3cdd1",
   "metadata": {},
   "source": [
    "## df_iris.std() da la desviación estandar de cada varible"
   ]
  },
  {
   "cell_type": "code",
   "execution_count": 49,
   "id": "2ce522d0-da4a-4a2b-a9f2-9b4a36ad01be",
   "metadata": {},
   "outputs": [
    {
     "data": {
      "text/plain": [
       "sepal.length    0.828066\n",
       "sepal.width     0.435866\n",
       "petal.length    1.765298\n",
       "petal.width     0.762238\n",
       "dtype: float64"
      ]
     },
     "execution_count": 49,
     "metadata": {},
     "output_type": "execute_result"
    }
   ],
   "source": [
    "df_iris[['sepal.length','sepal.width','petal.length','petal.width']].std()"
   ]
  },
  {
   "cell_type": "code",
   "execution_count": null,
   "id": "2904e3bc-88a2-4b1e-b48c-33d35c2438a8",
   "metadata": {},
   "outputs": [],
   "source": []
  }
 ],
 "metadata": {
  "kernelspec": {
   "display_name": "Python 3 (ipykernel)",
   "language": "python",
   "name": "python3"
  },
  "language_info": {
   "codemirror_mode": {
    "name": "ipython",
    "version": 3
   },
   "file_extension": ".py",
   "mimetype": "text/x-python",
   "name": "python",
   "nbconvert_exporter": "python",
   "pygments_lexer": "ipython3",
   "version": "3.12.4"
  }
 },
 "nbformat": 4,
 "nbformat_minor": 5
}
